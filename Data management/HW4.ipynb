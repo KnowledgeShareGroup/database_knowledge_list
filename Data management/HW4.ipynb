{
 "cells": [
  {
   "cell_type": "code",
   "execution_count": 1,
   "metadata": {},
   "outputs": [],
   "source": [
    "import sqlite3, pandas\n",
    "\n",
    "def execute_query(db_file, query):\n",
    "    try:\n",
    "        return pandas.read_sql_query(query, sqlite3.connect(db_file))\n",
    "    except sqlite3.Error as e:\n",
    "        print(e)\n",
    "        \n",
    "BowlingLeague = \"BowlingLeague.sqlite\"\n",
    "EntertainmentAgency = \"EntertainmentAgency.sqlite\"\n",
    "SalesOrders = \"SalesOrders.sqlite\""
   ]
  },
  {
   "cell_type": "markdown",
   "metadata": {},
   "source": [
    "## Sample Question on SalesOrders.sqlite: What bikes (CategoryID=2) cost more than $1000?"
   ]
  },
  {
   "cell_type": "code",
   "execution_count": 2,
   "metadata": {},
   "outputs": [
    {
     "name": "stdout",
     "output_type": "stream",
     "text": [
      "                ProductName  RetailPrice\n",
      "0   Trek 9000 Mountain Bike         1200\n",
      "1  Eagle FS-3 Mountain Bike         1800\n",
      "2    GT RTS-2 Mountain Bike         1650\n"
     ]
    }
   ],
   "source": [
    "# Please make sure you can run this sample code.\n",
    "query = '''\n",
    "SELECT ProductName, RetailPrice\n",
    "FROM Products\n",
    "WHERE CategoryID=2 AND RetailPrice > 1000;\n",
    "'''\n",
    "\n",
    "print(execute_query(SalesOrders, query))#execute the query on the database"
   ]
  },
  {
   "cell_type": "markdown",
   "metadata": {},
   "source": [
    "### Your assignment starts from here. In your submission, delete all unnessecary code. Only leave the query string."
   ]
  },
  {
   "cell_type": "code",
   "execution_count": 3,
   "metadata": {},
   "outputs": [
    {
     "name": "stdout",
     "output_type": "stream",
     "text": [
      "Name: Name\n",
      "NetID: NetID\n"
     ]
    }
   ],
   "source": [
    "print(\"Name:\", \"Name\") ###TODO\n",
    "print(\"NetID:\", \"NetID\") ###TODO"
   ]
  },
  {
   "cell_type": "markdown",
   "metadata": {},
   "source": [
    "# EntertainmentAgency.sqlite"
   ]
  },
  {
   "cell_type": "markdown",
   "metadata": {},
   "source": [
    "### P1. What is the percentage of male and female entertainer members whose musical style is Jazz? The query should output the percentages of each gender separately and indicate which is which."
   ]
  },
  {
   "cell_type": "raw",
   "metadata": {},
   "source": [
    "Note: The percentage here means percentage out of all entertainer members"
   ]
  },
  {
   "cell_type": "code",
   "execution_count": 9,
   "metadata": {},
   "outputs": [
    {
     "name": "stdout",
     "output_type": "stream",
     "text": [
      "  Gender  100 * COUNT(*) / (SELECT COUNT(*)  FROM Members)\n",
      "0      F                                                12\n",
      "1      M                                                16\n"
     ]
    }
   ],
   "source": [
    "####TODO 1: put your sql query in the following three single quotes\n",
    "query1 = '''\n",
    "SELECT Members.Gender as Gender, 100 * COUNT(*) / (SELECT COUNT(*)  FROM Members) \n",
    "FROM Entertainer_Styles\n",
    "JOIN Musical_Styles \n",
    "ON Entertainer_Styles.StyleID = Musical_Styles.StyleID \n",
    "JOIN Entertainer_Members\n",
    "ON Entertainer_Styles.EntertainerID = Entertainer_Members.EntertainerID\n",
    "JOIN Members\n",
    "ON Entertainer_Members.MemberID = Members.MemberID\n",
    "WHERE Musical_Styles.StyleName = \"Jazz\"\n",
    "GROUP BY Members.Gender\n",
    "\n",
    "'''\n",
    "print(execute_query(EntertainmentAgency, query1))"
   ]
  },
  {
   "cell_type": "markdown",
   "metadata": {},
   "source": [
    "### P2. What is the fullname (in the form “LastName,FirstName”) of the top 3 agents who have the highest average commission per engagement? Print out both the full names and the average commissions. The average commission can be calculated by multiplying the contract price with the agent’s commission rate."
   ]
  },
  {
   "cell_type": "code",
   "execution_count": 10,
   "metadata": {},
   "outputs": [
    {
     "name": "stdout",
     "output_type": "stream",
     "text": [
      "  AgtFirstName AgtLastName     earning\n",
      "0         John     Kennedy  122.175000\n",
      "1        Carol     Viescas   65.263158\n",
      "2        Karen       Smith   60.160294\n"
     ]
    }
   ],
   "source": [
    "####TODO 2: put your sql query in the following three single quotes\n",
    "query2 = '''\n",
    "SELECT Agents.AgtFirstName, Agents.AgtLastName, avg(Agents.CommissionRate * Engagements.ContractPrice)\n",
    "AS earning\n",
    "FROM Agents\n",
    "JOIN Engagements\n",
    "ON Agents.AgentID = Engagements.AgentID\n",
    "GROUP BY Agents.AgentID\n",
    "ORDER BY earning\n",
    "DESC \n",
    "LIMIT 3;\n",
    "\n",
    "''';\n",
    "\n",
    "print(execute_query(EntertainmentAgency, query2))"
   ]
  },
  {
   "cell_type": "markdown",
   "metadata": {},
   "source": [
    "### P3. What is the total income of the Jazz entertainers (i.e.,the sum of all Jazz entertainers’ income across all of their engagements) and the total income of the Salsa entertainers? The income of each entertainer for each engagement is the ContractPrice of the engagement minus the agent’s commission. To receive credit you must not use subqueries anywhere (i.e., no nested SELECT clauses at all)."
   ]
  },
  {
   "cell_type": "code",
   "execution_count": 11,
   "metadata": {},
   "outputs": [
    {
     "name": "stdout",
     "output_type": "stream",
     "text": [
      "  StyleName   income\n",
      "0      Jazz  19623.3\n",
      "1     Salsa  19115.7\n"
     ]
    }
   ],
   "source": [
    "####TODO 3: put your sql query in the following three single quotes\n",
    "query3 = '''\n",
    "SELECT Musical_Styles.StyleName, sum(Engagements.ContractPrice - Engagements.ContractPrice * Agents.CommissionRate) as income\n",
    "FROM Engagements JOIN Agents\n",
    "ON Engagements.AgentID = Agents.AgentID\n",
    "JOIN Entertainer_Styles\n",
    "ON Engagements.EntertainerID = Entertainer_Styles.EntertainerID\n",
    "JOIN Musical_Styles\n",
    "ON Entertainer_Styles.StyleID = Musical_Styles.StyleID\n",
    "WHERE Musical_Styles.StyleName in (\"Jazz\",\"Salsa\")\n",
    "GROUP BY Entertainer_Styles.StyleID;\n",
    "\n",
    "''';\n",
    "\n",
    "print(execute_query(EntertainmentAgency, query3))"
   ]
  },
  {
   "cell_type": "markdown",
   "metadata": {},
   "source": [
    "### P4. What are the top 5 musical styles that have the highest number of customers, and how many customers each of these styles has?"
   ]
  },
  {
   "cell_type": "code",
   "execution_count": null,
   "metadata": {},
   "outputs": [],
   "source": [
    "####TODO 4: put your sql query in the following three single quotes\n",
    "query4 = '''\n",
    "\n",
    "''';\n",
    "\n",
    "print(execute_query(EntertainmentAgency, query4))"
   ]
  },
  {
   "cell_type": "markdown",
   "metadata": {},
   "source": [
    "# BowlingLeague.sqlite"
   ]
  },
  {
   "cell_type": "markdown",
   "metadata": {},
   "source": [
    "### P5. Which teams have captains with the same last name? Each such team must be listed exactly once, along with the team captain’s full name (in the form “LastName, FirstName”)."
   ]
  },
  {
   "cell_type": "code",
   "execution_count": null,
   "metadata": {},
   "outputs": [],
   "source": [
    "####TODO 5: put your sql query in the following three single quotes\n",
    "query5 = '''\n",
    "\n",
    "''';\n",
    "\n",
    "print(execute_query(BowlingLeague, query5))"
   ]
  },
  {
   "cell_type": "markdown",
   "metadata": {},
   "source": [
    "### P6. List the TourneyDate,TourneyLocation,TeamNames and Lanes of the teams that have captains with the same last name. You can use only the team name from the results of the previous question. To receive credit you must not use subqueries anywhere (i.e., no nested SELECT clauses at all)."
   ]
  },
  {
   "cell_type": "code",
   "execution_count": 12,
   "metadata": {},
   "outputs": [
    {
     "name": "stdout",
     "output_type": "stream",
     "text": [
      "      TeamName    TeamName Tlanes        date            location\n",
      "0     Dolphins       Orcas  05-06  1999-06-05   Red Rooster Lanes\n",
      "1     Manatees   Swordfish  07-08  1999-06-05   Red Rooster Lanes\n",
      "2     Dolphins    Manatees  25-26  1999-06-12   Thunderbird Lanes\n",
      "3     Manatees       Orcas  19-20  1999-06-19        Bolero Lanes\n",
      "4     Dolphins   Swordfish  21-22  1999-06-19        Bolero Lanes\n",
      "5      Marlins    Dolphins  09-10  1999-06-26      Imperial Lanes\n",
      "6    Terrapins    Manatees  13-14  1999-06-26      Imperial Lanes\n",
      "7     Dolphins      Sharks  13-14  1999-07-03  Sports World Lanes\n",
      "8     Manatees  Barracudas  17-18  1999-07-03  Sports World Lanes\n",
      "9      Marlins    Manatees  05-06  1999-07-10         Totem Lanes\n",
      "10   Terrapins    Dolphins  07-08  1999-07-10         Totem Lanes\n",
      "11    Manatees      Sharks  15-16  1999-07-17      Acapulco Lanes\n",
      "12    Dolphins  Barracudas  19-20  1999-07-17      Acapulco Lanes\n",
      "13    Manatees    Dolphins  25-26  1999-07-24   Red Rooster Lanes\n",
      "14       Orcas    Manatees  19-20  1999-07-31   Thunderbird Lanes\n",
      "15   Swordfish    Dolphins  21-22  1999-07-31   Thunderbird Lanes\n",
      "16    Dolphins     Marlins  09-10  1999-08-07        Bolero Lanes\n",
      "17    Manatees   Terrapins  13-14  1999-08-07        Bolero Lanes\n",
      "18      Sharks    Dolphins  13-14  1999-08-14      Imperial Lanes\n",
      "19  Barracudas    Manatees  17-18  1999-08-14      Imperial Lanes\n",
      "20    Manatees     Marlins  05-06  1999-08-21  Sports World Lanes\n",
      "21    Dolphins   Terrapins  07-08  1999-08-21  Sports World Lanes\n",
      "22      Sharks    Manatees  15-16  1999-08-28         Totem Lanes\n",
      "23  Barracudas    Dolphins  19-20  1999-08-28         Totem Lanes\n",
      "24       Orcas    Dolphins  05-06  1999-09-04      Acapulco Lanes\n",
      "25   Swordfish    Manatees  07-08  1999-09-04      Acapulco Lanes\n"
     ]
    }
   ],
   "source": [
    "####TODO 6: put your sql query in the following three single quotes\n",
    "query6 = '''\n",
    "SELECT T1.TeamName, T2.TeamName, Tourney_Matches.Lanes as Tlanes,\n",
    "Tournaments.TourneyDate as date, Tournaments.TourneyLocation as location\n",
    "FROM Teams AS T1 JOIN Tourney_Matches\n",
    "ON T1.TeamID = Tourney_Matches.OddLaneTeamID\n",
    "JOIN Teams AS T2 \n",
    "ON T2.TeamID = Tourney_Matches.EvenLaneTeamID\n",
    "JOIN Tournaments\n",
    "ON Tourney_Matches.TourneyID = Tournaments.TourneyID\n",
    "WHERE T1.TeamName in (\"Manatees\", \"Dolphins\") OR\n",
    "T2.TeamName in (\"Manatees\", \"Dolphins\");\n",
    "\n",
    "''';\n",
    "\n",
    "print(execute_query(BowlingLeague, query6))"
   ]
  },
  {
   "cell_type": "markdown",
   "metadata": {},
   "source": [
    "### P7. How many teams have the different players with the same last name? To receive credit you must not use subqueries anywhere (i.e., no nested SELECT clauses at all)."
   ]
  },
  {
   "cell_type": "code",
   "execution_count": null,
   "metadata": {},
   "outputs": [],
   "source": [
    "####TODO 7: put your sql query in the following three single quotes\n",
    "query7 = '''\n",
    "\n",
    "''';\n",
    "\n",
    "print(execute_query(BowlingLeague, query7))"
   ]
  },
  {
   "cell_type": "markdown",
   "metadata": {},
   "source": [
    "# SalesOrders.sqlite"
   ]
  },
  {
   "cell_type": "markdown",
   "metadata": {},
   "source": [
    "### P8. Print the states that have a customer, but no vendor."
   ]
  },
  {
   "cell_type": "code",
   "execution_count": 13,
   "metadata": {},
   "outputs": [
    {
     "name": "stdout",
     "output_type": "stream",
     "text": [
      "  CustState\n",
      "0        OR\n"
     ]
    }
   ],
   "source": [
    "####TODO 8: put your sql query in the following three single quotes\n",
    "query8 = '''\n",
    "SELECT DISTINCT Customers.CustState FROM Customers\n",
    "EXCEPT\n",
    "SELECT DISTINCT Vendors.VendState FROM Vendors;\n",
    "''';\n",
    "\n",
    "print(execute_query(SalesOrders, query8))"
   ]
  },
  {
   "cell_type": "markdown",
   "metadata": {},
   "source": [
    "### P9. Print a listing of all the states in the US along with a list of the customer names in each state. "
   ]
  },
  {
   "cell_type": "raw",
   "metadata": {},
   "source": [
    "HINT1: GROUP_CONCAT() is an aggregator in SQLite that makes a list of strings. https://sqlite.org/lang_aggfunc.html#groupconcat"
   ]
  },
  {
   "cell_type": "raw",
   "metadata": {},
   "source": [
    "HINT2: You may copy-paste the following subquery into your query to generate a tables of states:                    VALUES ('AL'),('AK'),('AZ'),('AR'),('CA'),('CO'),('CT'),('DE'),('DC'),('FL'),('GA'),('HI'),('ID'),('IL'),('IN'),('IA'),('KS'),('KY'),('LA'),('ME'),('MD'),('MA'),('MI'),('MN'),('MS'),('MO'),('MT'),('NE'),('NV'),('NH'),('NJ'),('NM'),('NY'),('NC'),('ND'),('OH'),('OK'),('OR'),('PA'),('RI'),('SC'),('SD'),('TN'),('TX'),('UT'),('VT'),('VA'),('WA'),('WV'),('WI'),('WY')"
   ]
  },
  {
   "cell_type": "code",
   "execution_count": null,
   "metadata": {},
   "outputs": [],
   "source": [
    "####TODO 9: put your sql query in the following three single quotes\n",
    "query9 = '''\n",
    "\n",
    "''';\n",
    "print(execute_query(SalesOrders, query9))"
   ]
  },
  {
   "cell_type": "markdown",
   "metadata": {},
   "source": [
    "### P10. Print all the pair of products whose names have the same number of characters. List each pair only once (ie., don't list both A,B and B,A)."
   ]
  },
  {
   "cell_type": "raw",
   "metadata": {},
   "source": [
    "HINT: SQLite has a LENGTH() function that can be applied to text. https://sqlite.org/lang_corefunc.html#length"
   ]
  },
  {
   "cell_type": "code",
   "execution_count": 14,
   "metadata": {},
   "outputs": [
    {
     "name": "stdout",
     "output_type": "stream",
     "text": [
      "    ProductNumber  ProductNumber\n",
      "0               1              9\n",
      "1               1             22\n",
      "2               1             27\n",
      "3               1             33\n",
      "4               1             39\n",
      "5               2             15\n",
      "6               2             30\n",
      "7               3             23\n",
      "8               5             14\n",
      "9               5             21\n",
      "10              5             26\n",
      "11              5             31\n",
      "12              6             11\n",
      "13              6             12\n",
      "14              6             34\n",
      "15              9             22\n",
      "16              9             27\n",
      "17              9             33\n",
      "18              9             39\n",
      "19             10             38\n",
      "20             11             12\n",
      "21             11             34\n",
      "22             12             34\n",
      "23             13             29\n",
      "24             14             21\n",
      "25             14             26\n",
      "26             14             31\n",
      "27             15             30\n",
      "28             17             20\n",
      "29             17             40\n",
      "30             18             36\n",
      "31             20             40\n",
      "32             21             26\n",
      "33             21             31\n",
      "34             22             27\n",
      "35             22             33\n",
      "36             22             39\n",
      "37             26             31\n",
      "38             27             33\n",
      "39             27             39\n",
      "40             33             39\n",
      "41             35             37\n"
     ]
    }
   ],
   "source": [
    "####TODO 10: put your sql query in the following three single quotes\n",
    "query10 = '''\n",
    "SELECT P1.ProductNumber, P2.ProductNumber \n",
    "FROM Products AS P1 CROSS JOIN Products AS P2 \n",
    "WHERE length(P1.ProductName) = length(P2.ProductName)\n",
    "AND P1.ProductNumber < P2.ProductNumber;\n",
    "''';\n",
    "print(execute_query(SalesOrders, query10))"
   ]
  },
  {
   "cell_type": "code",
   "execution_count": null,
   "metadata": {},
   "outputs": [],
   "source": []
  }
 ],
 "metadata": {
  "colab": {
   "collapsed_sections": [],
   "name": "HW1.ipynb",
   "provenance": []
  },
  "kernelspec": {
   "display_name": "Python 3",
   "language": "python",
   "name": "python3"
  },
  "language_info": {
   "codemirror_mode": {
    "name": "ipython",
    "version": 3
   },
   "file_extension": ".py",
   "mimetype": "text/x-python",
   "name": "python",
   "nbconvert_exporter": "python",
   "pygments_lexer": "ipython3",
   "version": "3.7.4"
  }
 },
 "nbformat": 4,
 "nbformat_minor": 4
}
