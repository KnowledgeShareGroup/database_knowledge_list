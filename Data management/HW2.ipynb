{
 "cells": [
  {
   "cell_type": "code",
   "execution_count": 1,
   "metadata": {},
   "outputs": [],
   "source": [
    "# This assignment will mainly deal with csv data, another commonly used data format. \n",
    "import pandas as pd # We will mainly use pandas.\n",
    "\n",
    "# We will use New York Times data this time, maintained and hosted on Github\n",
    "# Explaination of the data content can be found at https://github.com/nytimes/covid-19-data.\n",
    "# Read the README file first!\n",
    "# Please download the data from canvas"
   ]
  },
  {
   "cell_type": "markdown",
   "metadata": {},
   "source": [
    "### P0: Name and NetID"
   ]
  },
  {
   "cell_type": "code",
   "execution_count": 2,
   "metadata": {},
   "outputs": [
    {
     "name": "stdout",
     "output_type": "stream",
     "text": [
      "Name: Name\n",
      "NetID: NetID\n"
     ]
    }
   ],
   "source": [
    "print(\"Name:\", \"Name\") ###TODO 1\n",
    "print(\"NetID:\", \"NetID\") ###TODO 2"
   ]
  },
  {
   "cell_type": "markdown",
   "metadata": {},
   "source": [
    "### P1. Upload the csv file to Google Drive, load it to a DataFrame using pandas, and print the number of rows."
   ]
  },
  {
   "cell_type": "code",
   "execution_count": 3,
   "metadata": {},
   "outputs": [
    {
     "name": "stdout",
     "output_type": "stream",
     "text": [
      "78548\n",
      "Q1:\t 78548\n"
     ]
    }
   ],
   "source": [
    "number_of_rows = 0 ####TODO 3\n",
    "data = pd.read_csv(\"us-counties.csv\",delimiter = \",\")\n",
    "print(len(data.index))\n",
    "number_of_rows = len(data.index)\n",
    "print(\"Q1:\\t\", number_of_rows)"
   ]
  },
  {
   "cell_type": "code",
   "execution_count": 4,
   "metadata": {},
   "outputs": [
    {
     "name": "stdout",
     "output_type": "stream",
     "text": [
      "Index(['date', 'county', 'state', 'fips', 'cases', 'deaths'], dtype='object')\n"
     ]
    }
   ],
   "source": [
    "print(data.columns)"
   ]
  },
  {
   "cell_type": "markdown",
   "metadata": {},
   "source": [
    "### P2. Implement the following function that, taking (state, county, date) as input, returns the number of total cases in that county on that date."
   ]
  },
  {
   "cell_type": "code",
   "execution_count": 12,
   "metadata": {},
   "outputs": [
    {
     "name": "stdout",
     "output_type": "stream",
     "text": [
      "Q2a:\t 95\n",
      "Q2b:\t 134446\n",
      "Q2c:\t 0\n"
     ]
    }
   ],
   "source": [
    "def number_of_cases(state, county, date):\n",
    "    record = data ###TODO 4\n",
    "    if(not record.empty):\n",
    "        filt1 = record[record[\"state\"]==state]\n",
    "        filt2 = filt1[filt1[\"county\"]==county]\n",
    "        filt3 = filt2[filt2[\"date\"]==date]\n",
    "        ###TODO 5\n",
    "        return filt3[\"cases\"].sum()\n",
    "    else:\n",
    "        return 0\n",
    "#assert(number_of_cases(\"Illinois\", \"Cook\", \"2020-04-19\")==21272)\n",
    "print(\"Q2a:\\t\", number_of_cases(\"Illinois\", \"Champaign\", \"2020-04-19\"))\n",
    "print(\"Q2b:\\t\", number_of_cases(\"New York\", \"New York City\", \"2020-04-19\"))\n",
    "print(\"Q2c:\\t\", number_of_cases(\"Nonexist\", \"Champaign\", \"2020-04-19\"))"
   ]
  },
  {
   "cell_type": "markdown",
   "metadata": {},
   "source": [
    "### P3. Implement the following function that, taking a state and a date as input, returns the total number of cases anywhere in that state on that date"
   ]
  },
  {
   "cell_type": "code",
   "execution_count": 6,
   "metadata": {},
   "outputs": [
    {
     "name": "stdout",
     "output_type": "stream",
     "text": [
      "Q3a:\t 30357\n",
      "Q3b:\t 4152\n",
      "Q3c:\t 7102\n",
      "Q3d:\t 0\n"
     ]
    }
   ],
   "source": [
    "def number_of_cases(state, date):\n",
    "    record = data ####TODO 6\n",
    "    if(not record.empty):\n",
    "        filter1 = record[record[\"state\"]==state] ####TODO 7\n",
    "        filter2 = filter1[filter1[\"date\"]==date]\n",
    "        return filter2[\"cases\"].sum()\n",
    "    else:\n",
    "        return 0\n",
    "#assert(number_of_cases(\"Illinois\", \"2020-04-19\")==30357)\n",
    "print(\"Q3a:\\t\", number_of_cases(\"Illinois\", \"2020-04-19\"))\n",
    "print(\"Q3b:\\t\", number_of_cases(\"New York\", \"2020-03-19\"))\n",
    "print(\"Q3c:\\t\", number_of_cases(\"New York\", \"2020-03-20\"))\n",
    "print(\"Q3d:\\t\", number_of_cases(\"Nonexist\", \"2020-04-19\"))"
   ]
  },
  {
   "cell_type": "markdown",
   "metadata": {},
   "source": [
    "### P4. Implement the following function that, taking a date, a state and an integer threashold as input, returns the list of counties with cases greater than or equal to the threashold"
   ]
  },
  {
   "cell_type": "code",
   "execution_count": 15,
   "metadata": {},
   "outputs": [
    {
     "name": "stdout",
     "output_type": "stream",
     "text": [
      "Q4a:\t []\n",
      "Q4b:\t ['Nassau', 'New York City', 'Suffolk', 'Westchester']\n",
      "Q4c:\t ['Dallas', 'Harris']\n"
     ]
    }
   ],
   "source": [
    "def list_beyond_threshold(state, date, threshold):\n",
    "    record = data #### TODO 8\n",
    "    if(not record.empty):\n",
    "        filter1 = record[record[\"state\"]==state] ####TODO 7\n",
    "        filter2 = filter1[filter1[\"date\"]==date]\n",
    "        counties = filter2[filter2[\"cases\"] >= threshold][\"county\"]\n",
    "        return list(counties) ####TODO 9\n",
    "    else:\n",
    "        return []\n",
    "\n",
    "#assert(list_beyond_threshold(\"Illinois\", \"2020-04-04\", 500) == ['Cook', 'DuPage', 'Lake', 'Will'])\n",
    "#assert(list_beyond_threshold(\"Illinois\", \"2020-03-04\", 500) == [])\n",
    "print(\"Q4a:\\t\", list_beyond_threshold(\"Nonexist\", \"2020-04-19\", 0))\n",
    "print(\"Q4b:\\t\", list_beyond_threshold(\"New York\", \"2020-04-19\", 10000))\n",
    "print(\"Q4c:\\t\", list_beyond_threshold(\"Texas\", \"2020-04-19\", 2000))"
   ]
  },
  {
   "cell_type": "markdown",
   "metadata": {},
   "source": [
    "### P5. Implement the following function that, taking a state as input, returns the date of the earliest case in that state."
   ]
  },
  {
   "cell_type": "code",
   "execution_count": 14,
   "metadata": {},
   "outputs": [
    {
     "name": "stdout",
     "output_type": "stream",
     "text": [
      "Q5a:\t 2020-01-21\n",
      "Q5a:\t 2020-01-25\n",
      "Q5a:\t 2020-02-28\n",
      "Q5a:\t 2020-03-11\n"
     ]
    }
   ],
   "source": [
    "def first_case(state):\n",
    "    record = data ####TODO 10\n",
    "    if(not record.empty):\n",
    "        filter = record[record[\"state\"]==state][\"date\"]\n",
    "        return min(filter)  ####TODO 11\n",
    "    else:\n",
    "        return \"\"\n",
    "#assert(first_case(\"Illinois\") == \"2020-01-24\")\n",
    "#assert(first_case(\"New York\") == \"2020-03-01\")\n",
    "print(\"Q5a:\\t\", first_case(\"Washington\"))\n",
    "print(\"Q5a:\\t\", first_case(\"California\"))\n",
    "print(\"Q5a:\\t\", first_case(\"Oregon\"))\n",
    "print(\"Q5a:\\t\", first_case(\"New Mexico\"))"
   ]
  },
  {
   "cell_type": "code",
   "execution_count": null,
   "metadata": {},
   "outputs": [],
   "source": []
  }
 ],
 "metadata": {
  "colab": {
   "collapsed_sections": [],
   "name": "HW1.ipynb",
   "provenance": []
  },
  "kernelspec": {
   "display_name": "Python 3",
   "language": "python",
   "name": "python3"
  },
  "language_info": {
   "codemirror_mode": {
    "name": "ipython",
    "version": 3
   },
   "file_extension": ".py",
   "mimetype": "text/x-python",
   "name": "python",
   "nbconvert_exporter": "python",
   "pygments_lexer": "ipython3",
   "version": "3.7.4"
  }
 },
 "nbformat": 4,
 "nbformat_minor": 4
}
