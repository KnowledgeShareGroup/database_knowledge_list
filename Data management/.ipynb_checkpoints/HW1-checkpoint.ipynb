{
 "cells": [
  {
   "cell_type": "code",
   "execution_count": 1,
   "metadata": {
    "colab": {},
    "colab_type": "code",
    "id": "hpvKy1Iizr_l"
   },
   "outputs": [],
   "source": [
    "import requests\n",
    "\n",
    "url = \"https://covid-19-statistics.p.rapidapi.com/reports\"\n",
    "\n",
    "headers = {\n",
    "    'x-rapidapi-host': \"covid-19-statistics.p.rapidapi.com\",\n",
    "    'x-rapidapi-key': \"5490de1e46mshe03fcf8c16e772fp1dfbd6jsn5b14620daf5f\"\n",
    "    }"
   ]
  },
  {
   "cell_type": "markdown",
   "metadata": {},
   "source": [
    "### P0 (0 pt) Print your Name and NetID"
   ]
  },
  {
   "cell_type": "code",
   "execution_count": 2,
   "metadata": {},
   "outputs": [
    {
     "name": "stdout",
     "output_type": "stream",
     "text": [
      "Name: Name\n",
      "NetID: NetID\n"
     ]
    }
   ],
   "source": [
    "print(\"Name:\", \"sizheli\") ###TODO\n",
    "print(\"NetID:\", \"SLN5159\") ###TODO"
   ]
  },
  {
   "cell_type": "markdown",
   "metadata": {
    "colab_type": "text",
    "id": "N0XLhh2IPjxn"
   },
   "source": [
    "### P1 (2 pt). Extract the death count from \"response.text\" using json."
   ]
  },
  {
   "cell_type": "code",
   "execution_count": 11,
   "metadata": {
    "colab": {},
    "colab_type": "code",
    "id": "I88_47SgePl5"
   },
   "outputs": [
    {
     "name": "stdout",
     "output_type": "stream",
     "text": [
      "{'data': [{'date': '2020-04-14', 'confirmed': 589, 'deaths': 8, 'recovered': 491, 'confirmed_diff': 0, 'deaths_diff': 0, 'recovered_diff': 7, 'last_update': '2020-04-14 01:21:44', 'active': 90, 'active_diff': -7, 'fatality_rate': 0.0136, 'region': {'iso': 'CHN', 'name': 'China', 'province': 'Beijing', 'lat': '40.1824', 'long': '116.4142', 'cities': []}}]}\n",
      "Q1: 0\n",
      "8\n"
     ]
    }
   ],
   "source": [
    "querystring = {\"region_province\":\"Beijing\",\"iso\":\"CHN\",\"date\":\"2020-04-14\"}\n",
    "response = requests.request(\"GET\", url, headers=headers, params=querystring)\n",
    "\n",
    "## Put your code here, and put the result in the following variable.\n",
    "print(response.json())\n",
    "information = response.json()\n",
    "death_count_beijing = 0 ###TODO\n",
    "print(\"Q1:\", death_count_beijing)\n",
    "print(information[\"data\"][0][\"deaths\"])\n",
    "death_count_beijing = 0"
   ]
  },
  {
   "cell_type": "markdown",
   "metadata": {
    "colab_type": "text",
    "id": "H7v5Y9erP35b"
   },
   "source": [
    "### P2 (2 pt). Based on the code above, write a function that will return the death count of a region on a specific date.\n",
    "\n",
    "Hint: in the case that the country, region or date are unavailable, the function should return a death count as 0."
   ]
  },
  {
   "cell_type": "code",
   "execution_count": 28,
   "metadata": {
    "colab": {},
    "colab_type": "code",
    "id": "iBAxcGo7Xn8p"
   },
   "outputs": [
    {
     "name": "stdout",
     "output_type": "stream",
     "text": [
      "Q2-a: 80\n",
      "Q2-b: 18611\n",
      "Q2-c: 289\n"
     ]
    }
   ],
   "source": [
    "def get_death_count(country, region, date):\n",
    "    querystring = {\"region_province\":region,\"iso\":country,\"date\":date}\n",
    "    response = requests.request(\"GET\", url, headers=headers, params=querystring)\n",
    "    information = response.json()\n",
    "    return information[\"data\"][0][\"deaths\"]\n",
    "    \n",
    "  ## country is in the ISO format like \"USA\", region can be the name of the state\n",
    "  ## it should return one integer\n",
    "  ## Put your code here to implement this function\n",
    "  ###TODO\n",
    "  \n",
    "\n",
    "## Here are some correct output examples. If you code is correct, the assertion should not return error.\n",
    "#assert(get_death_count(\"USA\", \"Illinois\", \"2020-04-07\") == 308)\n",
    "#assert(get_death_count(\"USA\", \"Illinois\", \"2019-04-07\") == 0)\n",
    "print(\"Q2-a:\", get_death_count(\"USA\", \"Alabama\", \"2020-04-10\"))\n",
    "print(\"Q2-b:\", get_death_count(\"USA\", \"New York\", \"2020-04-20\"))\n",
    "print(\"Q2-c:\", get_death_count(\"USA\", \"California\", \"2020-04-04\"))"
   ]
  },
  {
   "cell_type": "markdown",
   "metadata": {
    "colab_type": "text",
    "id": "Dxig6M16QQ89"
   },
   "source": [
    "### P3 (1 pt). Obtain the list of death counts from 2020-01-01 to 2020-04-14 for New York."
   ]
  },
  {
   "cell_type": "code",
   "execution_count": 41,
   "metadata": {
    "colab": {},
    "colab_type": "code",
    "id": "4JskLGm9XzcX"
   },
   "outputs": [
    {
     "name": "stdout",
     "output_type": "stream",
     "text": [
      "['2020-03-25', '2020-03-26', '2020-03-27', '2020-03-28', '2020-03-29', '2020-03-30', '2020-03-31', '2020-04-01', '2020-04-02', '2020-04-03', '2020-04-04', '2020-04-05', '2020-04-06', '2020-04-07', '2020-04-08', '2020-04-09', '2020-04-10', '2020-04-11', '2020-04-12', '2020-04-13', '2020-04-14']\n",
      "Q3: [285, 385, 527, 728, 965, 1218, 1550, 1941, 2373, 2935, 3565, 4159, 4698, 5489, 6268, 7067, 7867, 8627, 9385, 10058, 10842]\n"
     ]
    }
   ],
   "source": [
    "# The following function is to help you solve this problem\n",
    "from datetime import date, timedelta\n",
    "def get_all_dates():\n",
    "  sdate = date(2020, 3, 25)\n",
    "  edate = date(2020, 4, 14)\n",
    "  delta = edate - sdate\n",
    "  return [(sdate + timedelta(days=i)).strftime(\"%Y-%m-%d\") for i in range(delta.days + 1)]\n",
    "\n",
    "## Put your code here and your answer in the following varaible.\n",
    "dates = get_all_dates()\n",
    "print(dates)\n",
    "result_list = []###TODO\n",
    "for date in dates:\n",
    "    result_list.append(get_death_count(\"USA\", \"New York\", date))\n",
    "print(\"Q3:\", result_list)"
   ]
  },
  {
   "cell_type": "markdown",
   "metadata": {
    "colab_type": "text",
    "id": "RsH1gbD6QXnb"
   },
   "source": [
    "### P4 (2 pt). Starting from the first day when the death count reached 10, count the number of days it takes for the death count to be doubled. Print a list of 7 integers for the next 7 doubling (You can count it manually). What can you conclude from these 7 numbers? "
   ]
  },
  {
   "cell_type": "code",
   "execution_count": 43,
   "metadata": {
    "colab": {},
    "colab_type": "code",
    "id": "CfcfW4DXqHAA"
   },
   "outputs": [
    {
     "ename": "AssertionError",
     "evalue": "",
     "output_type": "error",
     "traceback": [
      "\u001b[0;31m---------------------------------------------------------------------------\u001b[0m",
      "\u001b[0;31mAssertionError\u001b[0m                            Traceback (most recent call last)",
      "\u001b[0;32m<ipython-input-43-2106d6f24785>\u001b[0m in \u001b[0;36m<module>\u001b[0;34m\u001b[0m\n\u001b[1;32m      1\u001b[0m \u001b[0mresult_list2\u001b[0m \u001b[0;34m=\u001b[0m \u001b[0;34m[\u001b[0m\u001b[0;34m]\u001b[0m\u001b[0;31m###TODO\u001b[0m\u001b[0;34m\u001b[0m\u001b[0;34m\u001b[0m\u001b[0m\n\u001b[1;32m      2\u001b[0m \u001b[0;34m\u001b[0m\u001b[0m\n\u001b[0;32m----> 3\u001b[0;31m \u001b[0;32massert\u001b[0m\u001b[0;34m(\u001b[0m\u001b[0mlen\u001b[0m\u001b[0;34m(\u001b[0m\u001b[0mresult_list2\u001b[0m\u001b[0;34m)\u001b[0m \u001b[0;34m==\u001b[0m \u001b[0;36m7\u001b[0m\u001b[0;34m)\u001b[0m\u001b[0;34m\u001b[0m\u001b[0;34m\u001b[0m\u001b[0m\n\u001b[0m\u001b[1;32m      4\u001b[0m \u001b[0;31m# The first three values are given\u001b[0m\u001b[0;34m\u001b[0m\u001b[0;34m\u001b[0m\u001b[0;34m\u001b[0m\u001b[0m\n\u001b[1;32m      5\u001b[0m \u001b[0;32massert\u001b[0m\u001b[0;34m(\u001b[0m\u001b[0mresult_list2\u001b[0m\u001b[0;34m[\u001b[0m\u001b[0;36m0\u001b[0m\u001b[0;34m]\u001b[0m \u001b[0;34m==\u001b[0m \u001b[0;36m3\u001b[0m\u001b[0;34m)\u001b[0m \u001b[0;31m# 10 -> 13 -> 16 -> 34\u001b[0m\u001b[0;34m\u001b[0m\u001b[0;34m\u001b[0m\u001b[0m\n",
      "\u001b[0;31mAssertionError\u001b[0m: "
     ]
    }
   ],
   "source": [
    "result_list2 = []###TODO\n",
    "\n",
    "assert(len(result_list2) == 7)\n",
    "# The first three values are given \n",
    "assert(result_list2[0] == 3) # 10 -> 13 -> 16 -> 34\n",
    "assert(result_list2[1] == 3) # 34 -> 42 -> 60 -> 117\n",
    "assert(result_list2[2] == 3) # 117 -> 158 -> 210 -> 285\n",
    "\n",
    "## Put your code here and your answer in the following varaible. Also print your findings below.\n",
    "print(\"Q4-a:\", result_list2)\n",
    "print(\"Q4-b:\", \"Write your observation breifly here\")###TODO"
   ]
  },
  {
   "cell_type": "markdown",
   "metadata": {
    "colab_type": "text",
    "id": "Vkeq-npkQh9C"
   },
   "source": [
    "### P5 (3 pt) Repeat the above process (P2 to P3), but this time for **confirmed case** across **the US**. \n",
    "\n",
    "Hint1: You can a query string like querystring = {\"iso\":\"USA\", \"date\":\"2020-xx-xx\"} to obtain the case report across US.\n",
    "\n",
    "Hint2: You may need to sum up all confirmed cases."
   ]
  },
  {
   "cell_type": "code",
   "execution_count": null,
   "metadata": {
    "colab": {},
    "colab_type": "code",
    "id": "tAjq5Ae_h-HU"
   },
   "outputs": [],
   "source": [
    "## Put your code here and your answer in the following varaible.\n",
    "result_list3 = []###TODO\n",
    "print(\"Q5:\", result_list3)"
   ]
  }
 ],
 "metadata": {
  "colab": {
   "collapsed_sections": [],
   "name": "HW1.ipynb",
   "provenance": []
  },
  "kernelspec": {
   "display_name": "Python 3",
   "language": "python",
   "name": "python3"
  },
  "language_info": {
   "codemirror_mode": {
    "name": "ipython",
    "version": 3
   },
   "file_extension": ".py",
   "mimetype": "text/x-python",
   "name": "python",
   "nbconvert_exporter": "python",
   "pygments_lexer": "ipython3",
   "version": "3.7.4"
  }
 },
 "nbformat": 4,
 "nbformat_minor": 4
}
