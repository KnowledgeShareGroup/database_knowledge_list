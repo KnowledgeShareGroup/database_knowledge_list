{
 "cells": [
  {
   "cell_type": "code",
   "execution_count": 13,
   "metadata": {},
   "outputs": [],
   "source": [
    "import sqlite3, pandas\n",
    "\n",
    "def execute_query(db_file, query):\n",
    "    try:\n",
    "        return pandas.read_sql_query(query, sqlite3.connect(db_file))\n",
    "    except sqlite3.Error as e:\n",
    "        print(e)\n",
    "prefix = \"/Users/lisizhe/Desktop/Data management/\"      \n",
    "SalesOrders = prefix + \"SalesOrders.sqlite\"\n",
    "SchoolScheduling = prefix + \"SchoolScheduling.sqlite\""
   ]
  },
  {
   "cell_type": "code",
   "execution_count": 14,
   "metadata": {},
   "outputs": [
    {
     "data": {
      "text/plain": [
       "'/Users/lisizhe/Desktop/Data management'"
      ]
     },
     "execution_count": 14,
     "metadata": {},
     "output_type": "execute_result"
    }
   ],
   "source": [
    "import os\n",
    "os.getcwd()"
   ]
  },
  {
   "cell_type": "markdown",
   "metadata": {},
   "source": [
    "## Sample Question on SalesOrders.sqlite: What bikes (CategoryID=2) cost more than $1000?"
   ]
  },
  {
   "cell_type": "code",
   "execution_count": 15,
   "metadata": {},
   "outputs": [
    {
     "name": "stdout",
     "output_type": "stream",
     "text": [
      "                ProductName  RetailPrice\n",
      "0   Trek 9000 Mountain Bike         1200\n",
      "1  Eagle FS-3 Mountain Bike         1800\n",
      "2    GT RTS-2 Mountain Bike         1650\n"
     ]
    }
   ],
   "source": [
    "# We can write multi-line string expressions in Python using three single quotes as below.\n",
    "query = '''\n",
    "SELECT ProductName, RetailPrice\n",
    "FROM Products\n",
    "WHERE CategoryID=2 AND RetailPrice > 1000;\n",
    "'''\n",
    "\n",
    "print(execute_query(SalesOrders, query))#execute the query on the database"
   ]
  },
  {
   "cell_type": "markdown",
   "metadata": {},
   "source": [
    "### Your assignment starts from here. In your submission, delete all unnessecary code. Only leave the query string."
   ]
  },
  {
   "cell_type": "code",
   "execution_count": null,
   "metadata": {},
   "outputs": [],
   "source": [
    "print(\"Name:\", \"Name\") ###TODO\n",
    "print(\"NetID:\", \"NetID\") ###TODO"
   ]
  },
  {
   "cell_type": "markdown",
   "metadata": {},
   "source": [
    "# SchoolScheduling.sqlite"
   ]
  },
  {
   "cell_type": "markdown",
   "metadata": {},
   "source": [
    "### P1. How many students are majoring in English or Mathematics?"
   ]
  },
  {
   "cell_type": "code",
   "execution_count": 17,
   "metadata": {},
   "outputs": [
    {
     "name": "stdout",
     "output_type": "stream",
     "text": [
      "   count(*)\n",
      "0         6\n"
     ]
    }
   ],
   "source": [
    "####TODO 1: put your sql query in the following three single quotes\n",
    "query1 = '''\n",
    "SELECT count(*) FROM Students\n",
    "WHERE Students.StudMajor = (SELECT MajorID FROM Majors \n",
    "WHERE Major = 'English')  OR Students.StudMajor = (SELECT MajorID FROM Majors \n",
    "WHERE Major = 'Mathematics');\n",
    "'''\n",
    "print(execute_query(SchoolScheduling, query1))"
   ]
  },
  {
   "cell_type": "markdown",
   "metadata": {},
   "source": [
    "### P2. What is the percentage of students with majors in \"English\" or \"Mathematics\"?"
   ]
  },
  {
   "cell_type": "code",
   "execution_count": 18,
   "metadata": {},
   "outputs": [
    {
     "name": "stdout",
     "output_type": "stream",
     "text": [
      "   100.0 *count(*)/(SELECT count(*) FROM Students)\n",
      "0                                        33.333333\n"
     ]
    }
   ],
   "source": [
    "####TODO 2: put your sql query in the following three single quotes\n",
    "query2 = '''\n",
    "SELECT 100.0 *count(*)/(SELECT count(*) FROM Students)\n",
    "FROM Students WHERE StudMajor IN (2,7);\n",
    "'''\n",
    "\n",
    "print(execute_query(SchoolScheduling, query2))"
   ]
  },
  {
   "cell_type": "markdown",
   "metadata": {},
   "source": [
    "### P3. How many unique last names does the staff have?"
   ]
  },
  {
   "cell_type": "code",
   "execution_count": 19,
   "metadata": {},
   "outputs": [
    {
     "name": "stdout",
     "output_type": "stream",
     "text": [
      "   count(DISTINCT(Staff.StfLastname))\n",
      "0                                  19\n"
     ]
    }
   ],
   "source": [
    "####TODO 3: put your sql query in the following three single quotes\n",
    "query3 = '''\n",
    "SELECT count(DISTINCT(Staff.StfLastname)) FROM Staff;\n",
    "'''\n",
    "\n",
    "print(execute_query(SchoolScheduling, query3))"
   ]
  },
  {
   "cell_type": "markdown",
   "metadata": {},
   "source": [
    "### P4. Each staff member has a proficiency rating for a number of subjects. For each staff member we can calculate its average proficiency rating (average across all subjects). What is the minimum value of the average proficiency rating of the staff?"
   ]
  },
  {
   "cell_type": "code",
   "execution_count": 20,
   "metadata": {},
   "outputs": [
    {
     "name": "stdout",
     "output_type": "stream",
     "text": [
      "   min(avgrate)\n",
      "0      8.333333\n"
     ]
    }
   ],
   "source": [
    "####TODO 4: put your sql query in the following three single quotes\n",
    "query4 = '''\n",
    "SELECT min(avgrate) FROM (SELECT avg(Faculty_Subjects.ProficiencyRating) \n",
    "AS avgrate FROM Faculty_Subjects GROUP BY Faculty_Subjects.StaffID);\n",
    "'''\n",
    "\n",
    "print(execute_query(SchoolScheduling, query4))"
   ]
  },
  {
   "cell_type": "markdown",
   "metadata": {},
   "source": [
    "### P5. In the Staff table, which last names have a length longer than 9 characters?"
   ]
  },
  {
   "cell_type": "code",
   "execution_count": 21,
   "metadata": {},
   "outputs": [
    {
     "name": "stdout",
     "output_type": "stream",
     "text": [
      "   StfLastname\n",
      "0   Bonnicksen\n",
      "1  Rosales III\n"
     ]
    }
   ],
   "source": [
    "####TODO 5: put your sql query in the following three single quotes\n",
    "query5 = '''\n",
    "SELECT Staff.StfLastname FROM Staff\n",
    "WHERE length(Staff.StfLastname) > 9;\n",
    "'''\n",
    "\n",
    "print(execute_query(SchoolScheduling, query5))"
   ]
  },
  {
   "cell_type": "markdown",
   "metadata": {},
   "source": [
    "# SalesOrders.sqlite"
   ]
  },
  {
   "cell_type": "markdown",
   "metadata": {},
   "source": [
    "### P6. How many customers live in TX?"
   ]
  },
  {
   "cell_type": "code",
   "execution_count": null,
   "metadata": {},
   "outputs": [],
   "source": [
    "####TODO 6: put your sql query in the following three single quotes\n",
    "query6 = '''\n",
    "SELECT count(*) FROM Customers WHERE CustState = \"TX\";\n",
    "''';\n",
    "\n",
    "print(execute_query(SalesOrders, query6))"
   ]
  },
  {
   "cell_type": "markdown",
   "metadata": {},
   "source": [
    "### P7. What are the top 5 highest revenue amounts that product number 3 has ever generated in a sale?"
   ]
  },
  {
   "cell_type": "code",
   "execution_count": null,
   "metadata": {},
   "outputs": [],
   "source": [
    "####TODO 7: put your sql query in the following three single quotes\n",
    "query7 = '''\n",
    "SELECT (Order_Details.QuantityOrdered*Order_Details.QuotedPrice) AS \n",
    "revenueAmount FROM Order_Details WHERE Order_Details.ProductNumber = 3\n",
    "ORDER BY revenueAmount DESC LIMIT 5;\n",
    "''';\n",
    "\n",
    "print(execute_query(SalesOrders, query7))"
   ]
  },
  {
   "cell_type": "markdown",
   "metadata": {},
   "source": [
    "### P8. How many orders has a customer named Alaina Hallmark placed so far?"
   ]
  },
  {
   "cell_type": "code",
   "execution_count": null,
   "metadata": {},
   "outputs": [],
   "source": [
    "####TODO 8: put your sql query in the following three single quotes\n",
    "query8 = '''\n",
    "SELECT count(*) AS orderNum FROM Orders WHERE Orders.CustomerID = \n",
    "(SELECT Customers.CustomerID FROM Customers WHERE\n",
    "Customers.CustLastName = \"Hallmark\" AND Customers.CustFirstName\n",
    "=\"Alaina\");\n",
    "''';\n",
    "\n",
    "print(execute_query(SalesOrders, query8))"
   ]
  },
  {
   "cell_type": "markdown",
   "metadata": {},
   "source": [
    "### P9. What is the total revenue that a customer named Alaina Hallmark has brought through product sales?"
   ]
  },
  {
   "cell_type": "code",
   "execution_count": null,
   "metadata": {},
   "outputs": [],
   "source": [
    "####TODO 9: put your sql query in the following three single quotes\n",
    "query9 = '''\n",
    "\n",
    "''';\n",
    "\n",
    "\n",
    "print(execute_query(SalesOrders, query9))"
   ]
  },
  {
   "cell_type": "markdown",
   "metadata": {},
   "source": [
    "### P10. In which state do most customers live? Report both the state name and the number of customers living in that state."
   ]
  },
  {
   "cell_type": "code",
   "execution_count": null,
   "metadata": {},
   "outputs": [],
   "source": [
    "####TODO 10: put your sql query in the following three single quotes\n",
    "query10 = '''\n",
    "SELECT count(*) AS custNum,Customers.CustState FROM Customers \n",
    "GROUP BY Customers.CustState ORDER BY custNum DESC LIMIT 1;\n",
    "''';\n",
    "\n",
    "print(execute_query(SalesOrders, query10))"
   ]
  }
 ],
 "metadata": {
  "colab": {
   "collapsed_sections": [],
   "name": "HW1.ipynb",
   "provenance": []
  },
  "kernelspec": {
   "display_name": "Python 3",
   "language": "python",
   "name": "python3"
  },
  "language_info": {
   "codemirror_mode": {
    "name": "ipython",
    "version": 3
   },
   "file_extension": ".py",
   "mimetype": "text/x-python",
   "name": "python",
   "nbconvert_exporter": "python",
   "pygments_lexer": "ipython3",
   "version": "3.7.4"
  }
 },
 "nbformat": 4,
 "nbformat_minor": 4
}
